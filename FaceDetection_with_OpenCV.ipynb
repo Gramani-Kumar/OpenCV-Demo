{
  "nbformat": 4,
  "nbformat_minor": 0,
  "metadata": {
    "colab": {
      "name": "FaceDetection with OpenCV.ipynb",
      "provenance": [],
      "authorship_tag": "ABX9TyPuFCGwngPahSTC16pf2nuz",
      "include_colab_link": true
    },
    "kernelspec": {
      "name": "python3",
      "display_name": "Python 3"
    }
  },
  "cells": [
    {
      "cell_type": "markdown",
      "metadata": {
        "id": "view-in-github",
        "colab_type": "text"
      },
      "source": [
        "<a href=\"https://colab.research.google.com/github/Gramani-Kumar/OpenCV-Demo/blob/master/FaceDetection_with_OpenCV.ipynb\" target=\"_parent\"><img src=\"https://colab.research.google.com/assets/colab-badge.svg\" alt=\"Open In Colab\"/></a>"
      ]
    },
    {
      "cell_type": "markdown",
      "metadata": {
        "id": "cYa_VKbJPXeh",
        "colab_type": "text"
      },
      "source": [
        "#Face detection using OpenCV\n",
        "  - Using Haar cascade classifer.  \n",
        "     - https://github.com/opencv/opencv/tree/master/data/haarcascades\n",
        "  - Viola-Jones Algorithm\n",
        "   - Adaboost\n",
        "   - Integral image\n",
        "   - Cascading. \n",
        "   - https://www.cs.cmu.edu/~efros/courses/LBMV07/Papers/viola-cvpr-01.pdf\n"
      ]
    },
    {
      "cell_type": "code",
      "metadata": {
        "id": "U-Zg1ZlDNPDp",
        "colab_type": "code",
        "colab": {}
      },
      "source": [
        "# Importing the libraries\n",
        "import cv2\n",
        "\n",
        "#haarcascade_frontalface_default.xml     =\n",
        "#haarcascade_eye.xml\n",
        "#haarcascade_smile.xml   \n",
        "\n",
        "# Loading the cascades\n",
        "face_cascade = cv2.CascadeClassifier('haarcascade_frontalface_default.xml')     \n",
        "eye_cascade = cv2.CascadeClassifier('haarcascade_eye.xml')\n",
        "smile_cascade = cv2.CascadeClassifier('haarcascade_smile.xml')\n",
        "\n",
        "# Defining a function that will do the detections\n",
        "def detect(gray, frame):\n",
        "    faces = face_cascade.detectMultiScale(gray, 1.3, 5)                         #get all the face area. (multi-image size data)\n",
        "    for (x, y, w, h) in faces:\n",
        "        cv2.rectangle(frame, (x, y), (x+w, y+h), (255, 0, 0), 2)                #Draw rectangle\n",
        "        roi_gray = gray[y:y+h, x:x+w]                                           #Crop gray converted image\n",
        "        roi_color = frame[y:y+h, x:x+w]                                         #book mark for original image\n",
        "        eyes = eye_cascade.detectMultiScale(roi_gray, 1.1, 22)                  #find eye in face detected area\n",
        "        for (ex, ey, ew, eh) in eyes:\n",
        "            cv2.rectangle(roi_color, (ex, ey), (ex+ew, ey+eh), (0, 255, 0), 2)  #draw rectangle\n",
        "        smiles = smile_cascade.detectMultiScale(roi_gray, 1.7, 22)              #find smiling feature \n",
        "        for (sx, sy, sw, sh) in smiles:\n",
        "            cv2.rectangle(roi_color, (sx, sy), (sx+sw, sy+sh), (0, 0, 255), 2)  #draw if anything found\n",
        "    return frame\n",
        "\n",
        "# Doing some Face Recognition with the webcam\n",
        "video_capture = cv2.VideoCapture(0)\n",
        "while True:\n",
        "    _, frame = video_capture.read()\n",
        "    gray = cv2.cvtColor(frame, cv2.COLOR_BGR2GRAY)                              #Cannot run through browser. \n",
        "    canvas = detect(gray, frame)\n",
        "    cv2.imshow('Video', canvas)\n",
        "    if cv2.waitKey(1) & 0xFF == ord('q'):\n",
        "        break\n",
        "video_capture.release()\n",
        "cv2.destroyAllWindows()"
      ],
      "execution_count": null,
      "outputs": []
    },
    {
      "cell_type": "code",
      "metadata": {
        "id": "tD3C-K_CNwBn",
        "colab_type": "code",
        "colab": {}
      },
      "source": [
        ""
      ],
      "execution_count": null,
      "outputs": []
    },
    {
      "cell_type": "markdown",
      "metadata": {
        "id": "FSl1w7jNl620",
        "colab_type": "text"
      },
      "source": [
        "#Face detection using Dlib\n",
        "  - HOG"
      ]
    },
    {
      "cell_type": "code",
      "metadata": {
        "id": "Nnb3NarOl9rF",
        "colab_type": "code",
        "colab": {}
      },
      "source": [
        "import cv2\n",
        "import dlib\n",
        "import imutils.face_utils as face_utils\n",
        "import matplotlib.pyplot as plt\n",
        "\n"
      ],
      "execution_count": 3,
      "outputs": []
    },
    {
      "cell_type": "code",
      "metadata": {
        "id": "DPUHO-d0mFwv",
        "colab_type": "code",
        "colab": {}
      },
      "source": [
        "#Read the image.\n",
        "img = cv2.imread(\"./myTestImage.jpg\")\n",
        "\n",
        "#img = cv2.cvtColor(img, c)\n",
        "#Convert to Gray\n",
        "img  = cv2.cvtColor(img, cv2.COLOR_BGR2GRAY)\n",
        "\n",
        "#check by ploting\n",
        "plt.imshow(img, cmap=\"gray\")\n",
        "plt.show()"
      ],
      "execution_count": null,
      "outputs": []
    },
    {
      "cell_type": "code",
      "metadata": {
        "id": "yk9fNfUGoB7z",
        "colab_type": "code",
        "colab": {}
      },
      "source": [
        "#detect Face.\n",
        "detector = dlib.get_frontal_face_detector()  #instance\n",
        "\n",
        "#get the points\n",
        "points = detector(img, 1)\n",
        "\n",
        "for point in points:\n",
        "  (x, y, w, h) = face_utils.rect_to_bb(point)  #Bounding Box\n",
        "\n",
        "  #draw rectangle in the the picture\n",
        "  cv2.rectangle(img, (x, y), (x+w, y+h), (255, 0, 0), 3)\n",
        "\n",
        "plt.imshow(img, cmap=\"gray\")\n",
        "plt.show()\n",
        "   "
      ],
      "execution_count": null,
      "outputs": []
    },
    {
      "cell_type": "code",
      "metadata": {
        "id": "z6DSqefgplyu",
        "colab_type": "code",
        "colab": {}
      },
      "source": [
        ""
      ],
      "execution_count": null,
      "outputs": []
    }
  ]
}